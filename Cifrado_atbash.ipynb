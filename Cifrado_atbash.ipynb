{
  "nbformat": 4,
  "nbformat_minor": 0,
  "metadata": {
    "colab": {
      "provenance": []
    },
    "kernelspec": {
      "name": "python3",
      "display_name": "Python 3"
    },
    "language_info": {
      "name": "python"
    }
  },
  "cells": [
    {
      "cell_type": "markdown",
      "source": [
        "**DESCIFRADO**"
      ],
      "metadata": {
        "id": "8vBFevvNl6HA"
      }
    },
    {
      "cell_type": "code",
      "source": [
        "def atbash_decrypt_formula(ciphertext):\n",
        "    # Desencriptar el mensaje utilizando la fórmula Atbash\n",
        "    decrypted_message = ''\n",
        "    for char in ciphertext:\n",
        "        if char.isalpha():\n",
        "            if char.islower():\n",
        "                encrypted_position = ord(char) - ord('a')\n",
        "                decrypted_position = 25 - encrypted_position\n",
        "                decrypted_char = chr(decrypted_position + ord('a'))\n",
        "            else:\n",
        "                encrypted_position = ord(char) - ord('A')\n",
        "                decrypted_position = 25 - encrypted_position\n",
        "                decrypted_char = chr(decrypted_position + ord('A'))\n",
        "            decrypted_message += decrypted_char\n",
        "        else:\n",
        "            # Mantener caracteres no alfabéticos sin cambios\n",
        "            decrypted_message += char\n",
        "\n",
        "    return decrypted_message\n",
        "\n",
        "# Mensaje cifrado\n",
        "ciphertext = 'GSVUOZTRHHZBDVZIVXIZAB'\n",
        "\n",
        "# Desencriptar el mensaje utilizando la fórmula Atbash\n",
        "decrypted_message = atbash_decrypt_formula(ciphertext)\n",
        "print('Mensaje descifrado:', decrypted_message)\n"
      ],
      "metadata": {
        "colab": {
          "base_uri": "https://localhost:8080/"
        },
        "id": "4LtFsCbuodTd",
        "outputId": "7a50c1aa-0275-4869-aba8-63393ef0aab1"
      },
      "execution_count": 9,
      "outputs": [
        {
          "output_type": "stream",
          "name": "stdout",
          "text": [
            "Mensaje descifrado: THEFLAGISSAYWEARECRAZY\n"
          ]
        }
      ]
    },
    {
      "cell_type": "markdown",
      "source": [
        "La función de descifrado Atbash se puede expresar matemáticamente de la siguiente manera:\\\n",
        "-Dado un carácter cifrado C en el alfabeto cifrado, donde C es un número que representa la posición de la letra en el alfabeto cifrado (comenzando desde 0).\\\n",
        "-La fórmula de descifrado Atbash sería:\n",
        "P=(N+1)-C'\\\n",
        "Donde P es el caracter original, N es el numero total de letras en el alfabeto y C' es la posición del carácter cifrado, pero comenzando desde 0.\\\n",
        "-La operación se aplica para cada carácter en el mensaje cifrado, y el resultado es el mensaje original.\n"
      ],
      "metadata": {
        "id": "6QmAVKKroxAv"
      }
    },
    {
      "cell_type": "markdown",
      "source": [
        "**CIFRADO**"
      ],
      "metadata": {
        "id": "MOLmHYg9l-sM"
      }
    },
    {
      "cell_type": "code",
      "source": [
        "def atbash_encrypt_formula(plaintext):\n",
        "    # Cifrar el mensaje utilizando la fórmula Atbash\n",
        "    encrypted_message = ''\n",
        "    for char in plaintext:\n",
        "        if char.isalpha():\n",
        "            if char.islower():\n",
        "                position = ord(char) - ord('a')\n",
        "                encrypted_position = 25 - position\n",
        "                encrypted_char = chr(encrypted_position + ord('a'))\n",
        "            else:\n",
        "                position = ord(char) - ord('A')\n",
        "                encrypted_position = 25 - position\n",
        "                encrypted_char = chr(encrypted_position + ord('A'))\n",
        "            encrypted_message += encrypted_char\n",
        "        else:\n",
        "            # Mantener caracteres no alfabéticos sin cambios\n",
        "            encrypted_message += char\n",
        "\n",
        "    return encrypted_message\n",
        "\n",
        "# Mensaje original\n",
        "plaintext = 'theflagissaywearecrazy'\n",
        "\n",
        "# Cifrar el mensaje utilizando la fórmula Atbash\n",
        "ciphertext = atbash_encrypt_formula(plaintext)\n",
        "print('Mensaje cifrado:', ciphertext)\n",
        "\n"
      ],
      "metadata": {
        "colab": {
          "base_uri": "https://localhost:8080/"
        },
        "id": "pL0GKhuLmdLk",
        "outputId": "e61fc830-d531-4d4a-814a-ee50835b87cc"
      },
      "execution_count": 8,
      "outputs": [
        {
          "output_type": "stream",
          "name": "stdout",
          "text": [
            "Mensaje cifrado: gsvuoztrhhzbdvzivxizab\n"
          ]
        }
      ]
    },
    {
      "cell_type": "markdown",
      "source": [
        "La función de cifrado Atbash se puede describir matemáticamente de la siguiente manera:\\\n",
        "-Dado un carácter cifrado P en el alfabeto cifrado, donde P es un número que representa la posición de la letra en el alfabeto cifrado (comenzando desde 0 o 1).\\\n",
        "-La fórmula de descifrado Atbash sería:\n",
        "C=(N+1)-P'\\\n",
        "Donde C es el caracter original, N es el numero total de letras en el alfabeto y P' es la posición del carácter cifrado, pero comenzando desde 0.\\\n",
        "-La operación se aplica para cada carácter en el mensaje cifrado, y el resultado es el mensaje cifrado."
      ],
      "metadata": {
        "id": "5nTAF5DHqE0S"
      }
    }
  ]
}